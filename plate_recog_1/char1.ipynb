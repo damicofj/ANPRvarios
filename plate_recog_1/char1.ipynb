{
 "cells": [
  {
   "cell_type": "markdown",
   "id": "7d0e29f1",
   "metadata": {},
   "source": [
    "# Char recognition proto 1"
   ]
  },
  {
   "cell_type": "code",
   "execution_count": null,
   "id": "20ab6949",
   "metadata": {},
   "outputs": [],
   "source": []
  }
 ],
 "metadata": {
  "kernelspec": {
   "display_name": "Python 3",
   "language": "python",
   "name": "python3"
  },
  "language_info": {
   "codemirror_mode": {
    "name": "ipython",
    "version": 3
   },
   "file_extension": ".py",
   "mimetype": "text/x-python",
   "name": "python",
   "nbconvert_exporter": "python",
   "pygments_lexer": "ipython3",
   "version": "3.8.5"
  }
 },
 "nbformat": 4,
 "nbformat_minor": 5
}
